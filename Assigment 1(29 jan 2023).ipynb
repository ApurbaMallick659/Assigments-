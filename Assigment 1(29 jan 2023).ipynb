{
 "cells": [
  {
   "cell_type": "code",
   "execution_count": 2,
   "id": "9cf69029-6d3d-48f5-9a00-0a27e3a29041",
   "metadata": {
    "collapsed": true,
    "jupyter": {
     "outputs_hidden": true
    },
    "tags": []
   },
   "outputs": [
    {
     "ename": "SyntaxError",
     "evalue": "invalid syntax (830219551.py, line 1)",
     "output_type": "error",
     "traceback": [
      "\u001b[0;36m  Cell \u001b[0;32mIn[2], line 1\u001b[0;36m\u001b[0m\n\u001b[0;31m    Assigment 1 ( 29 jan 2023 )\u001b[0m\n\u001b[0m              ^\u001b[0m\n\u001b[0;31mSyntaxError\u001b[0m\u001b[0;31m:\u001b[0m invalid syntax\n"
     ]
    }
   ],
   "source": [
    "                                                 Assigment 1 ( 29 jan 2023 )\n",
    "    \n",
    "    Question 1. Who developed python programming language?\n",
    "    \n",
    "    Ans: Guido van Rossum is developed python programming language.\n",
    "    "
   ]
  },
  {
   "cell_type": "code",
   "execution_count": null,
   "id": "4f319ef5-4259-473f-91dc-bf8ab374a054",
   "metadata": {},
   "outputs": [],
   "source": [
    "Question 2. Which type of programming does python support? \n",
    "Ans:  Python is an interpreted programming language, which supports object-oriented, structured, and functional programming.\n"
   ]
  },
  {
   "cell_type": "code",
   "execution_count": 7,
   "id": "b8fbf98a-6a86-42b8-8cea-aed7ba434a23",
   "metadata": {
    "collapsed": true,
    "jupyter": {
     "outputs_hidden": true
    },
    "tags": []
   },
   "outputs": [
    {
     "ename": "SyntaxError",
     "evalue": "invalid decimal literal (2128534734.py, line 1)",
     "output_type": "error",
     "traceback": [
      "\u001b[0;36m  Cell \u001b[0;32mIn[7], line 1\u001b[0;36m\u001b[0m\n\u001b[0;31m    Question 3.Is python case sensitive when dealing with identifiers?\u001b[0m\n\u001b[0m              ^\u001b[0m\n\u001b[0;31mSyntaxError\u001b[0m\u001b[0;31m:\u001b[0m invalid decimal literal\n"
     ]
    }
   ],
   "source": [
    "Question 3.Is python case sensitive when dealing with identifiers? \n",
    "Ans: Case is always significant while dealing with identifiers in python.\n"
   ]
  },
  {
   "cell_type": "code",
   "execution_count": 8,
   "id": "2b7a04c8-d06c-4036-ac43-7b1c5742c3ac",
   "metadata": {
    "collapsed": true,
    "jupyter": {
     "outputs_hidden": true
    },
    "tags": []
   },
   "outputs": [
    {
     "ename": "SyntaxError",
     "evalue": "invalid syntax (3817346572.py, line 1)",
     "output_type": "error",
     "traceback": [
      "\u001b[0;36m  Cell \u001b[0;32mIn[8], line 1\u001b[0;36m\u001b[0m\n\u001b[0;31m    Question 4. What is the correct extension of the python filr?\u001b[0m\n\u001b[0m             ^\u001b[0m\n\u001b[0;31mSyntaxError\u001b[0m\u001b[0;31m:\u001b[0m invalid syntax\n"
     ]
    }
   ],
   "source": [
    "Question 4. What is the correct extension of the python filr? \n",
    "Ans : .py is the correct extension of the Python file.\n"
   ]
  },
  {
   "cell_type": "code",
   "execution_count": null,
   "id": "43d19fe6-7b24-40b6-9b96-310a9ab453a3",
   "metadata": {},
   "outputs": [],
   "source": [
    "Question 5. Is Python code compiled or interpreted?\n",
    "Ans : Python code is both compiled and interpreted "
   ]
  },
  {
   "cell_type": "code",
   "execution_count": 9,
   "id": "60abc5dd-85c8-4199-9bc8-d684f8e59c32",
   "metadata": {
    "collapsed": true,
    "jupyter": {
     "outputs_hidden": true
    },
    "tags": []
   },
   "outputs": [
    {
     "ename": "SyntaxError",
     "evalue": "invalid syntax (1847005839.py, line 2)",
     "output_type": "error",
     "traceback": [
      "\u001b[0;36m  Cell \u001b[0;32mIn[9], line 2\u001b[0;36m\u001b[0m\n\u001b[0;31m    Ans:  In Python, to define a block of code we use indentation. Indentation refers to whitespaces at the beginning of the line.\u001b[0m\n\u001b[0m             ^\u001b[0m\n\u001b[0;31mSyntaxError\u001b[0m\u001b[0;31m:\u001b[0m invalid syntax\n"
     ]
    }
   ],
   "source": [
    "Question 6.Name of few blocks of code used to define in python language?\n",
    "Ans:  In Python, to define a block of code we use indentation. Indentation refers to whitespaces at the beginning of the line.\n"
   ]
  },
  {
   "cell_type": "code",
   "execution_count": 10,
   "id": "6408e692-2844-4e2f-b717-76a8174331d8",
   "metadata": {
    "collapsed": true,
    "jupyter": {
     "outputs_hidden": true
    },
    "tags": []
   },
   "outputs": [
    {
     "ename": "SyntaxError",
     "evalue": "invalid syntax (536237258.py, line 2)",
     "output_type": "error",
     "traceback": [
      "\u001b[0;36m  Cell \u001b[0;32mIn[10], line 2\u001b[0;36m\u001b[0m\n\u001b[0;31m    Ans : We can write a single-line comment by adding a single # character before any statement or line of code.\u001b[0m\n\u001b[0m             ^\u001b[0m\n\u001b[0;31mSyntaxError\u001b[0m\u001b[0;31m:\u001b[0m invalid syntax\n"
     ]
    }
   ],
   "source": [
    "Question 7:  State a Character used to give single-line comments in python?\n",
    "Ans : We can write a single-line comment by adding a single # character before any statement or line of code.\n"
   ]
  },
  {
   "cell_type": "code",
   "execution_count": 11,
   "id": "91e01b78-49be-455d-a3d4-ddb27cf204d8",
   "metadata": {
    "collapsed": true,
    "jupyter": {
     "outputs_hidden": true
    },
    "tags": []
   },
   "outputs": [
    {
     "ename": "SyntaxError",
     "evalue": "invalid syntax (1482398057.py, line 1)",
     "output_type": "error",
     "traceback": [
      "\u001b[0;36m  Cell \u001b[0;32mIn[11], line 1\u001b[0;36m\u001b[0m\n\u001b[0;31m    Question 8. Mention functions which can help us to find the version of python that we are currently working on?\u001b[0m\n\u001b[0m             ^\u001b[0m\n\u001b[0;31mSyntaxError\u001b[0m\u001b[0;31m:\u001b[0m invalid syntax\n"
     ]
    }
   ],
   "source": [
    "Question 8. Mention functions which can help us to find the version of python that we are currently working on? \n",
    "Ans. The function sys.version can help us to find the version of python that we are currently working on."
   ]
  },
  {
   "cell_type": "code",
   "execution_count": 12,
   "id": "a1c43849-2061-40fa-a3f4-cdf888e7ae8f",
   "metadata": {
    "collapsed": true,
    "jupyter": {
     "outputs_hidden": true
    },
    "tags": []
   },
   "outputs": [
    {
     "ename": "SyntaxError",
     "evalue": "invalid syntax (2299972675.py, line 1)",
     "output_type": "error",
     "traceback": [
      "\u001b[0;36m  Cell \u001b[0;32mIn[12], line 1\u001b[0;36m\u001b[0m\n\u001b[0;31m    Question 9. python supports the creation of anonymous functions at runtime, using a construct called_____\u001b[0m\n\u001b[0m             ^\u001b[0m\n\u001b[0;31mSyntaxError\u001b[0m\u001b[0;31m:\u001b[0m invalid syntax\n"
     ]
    }
   ],
   "source": [
    "Question 9. python supports the creation of anonymous functions at runtime, using a construct called_____\n",
    "\n",
    "Ans : python supports the creation of anonymous functions at runtime, using a construct called \"LAMBDA\" "
   ]
  },
  {
   "cell_type": "code",
   "execution_count": 13,
   "id": "d8432412-e038-4704-897e-c4a74d02119c",
   "metadata": {
    "collapsed": true,
    "jupyter": {
     "outputs_hidden": true
    },
    "tags": []
   },
   "outputs": [
    {
     "ename": "SyntaxError",
     "evalue": "invalid syntax (3471080289.py, line 1)",
     "output_type": "error",
     "traceback": [
      "\u001b[0;36m  Cell \u001b[0;32mIn[13], line 1\u001b[0;36m\u001b[0m\n\u001b[0;31m    Question 10. What does pip stand for python?\u001b[0m\n\u001b[0m             ^\u001b[0m\n\u001b[0;31mSyntaxError\u001b[0m\u001b[0;31m:\u001b[0m invalid syntax\n"
     ]
    }
   ],
   "source": [
    "Question 10. What does pip stand for python? \n",
    "Ans : pip stands for \"preferred installation program.\" \n"
   ]
  },
  {
   "cell_type": "code",
   "execution_count": 14,
   "id": "8feacdcd-3710-46e0-94f9-b08f825892b5",
   "metadata": {
    "collapsed": true,
    "jupyter": {
     "outputs_hidden": true
    },
    "tags": []
   },
   "outputs": [
    {
     "ename": "SyntaxError",
     "evalue": "invalid syntax (2965820399.py, line 2)",
     "output_type": "error",
     "traceback": [
      "\u001b[0;36m  Cell \u001b[0;32mIn[14], line 2\u001b[0;36m\u001b[0m\n\u001b[0;31m    Ans : print( ) function.\u001b[0m\n\u001b[0m                   ^\u001b[0m\n\u001b[0;31mSyntaxError\u001b[0m\u001b[0;31m:\u001b[0m invalid syntax\n"
     ]
    }
   ],
   "source": [
    "Question 11. Mention a few built-in functions in python?\n",
    "Ans : print( ) function.\n",
    "type( ) function.\n",
    "input( ) function.\n",
    "abs( ) function.\n",
    "pow( ) function.\n",
    "dir( ) function.\n"
   ]
  },
  {
   "cell_type": "code",
   "execution_count": 15,
   "id": "ef3c2dcd-79e3-4a6a-ba87-630ea1e15112",
   "metadata": {
    "collapsed": true,
    "jupyter": {
     "outputs_hidden": true
    },
    "tags": []
   },
   "outputs": [
    {
     "ename": "SyntaxError",
     "evalue": "invalid syntax (265932120.py, line 2)",
     "output_type": "error",
     "traceback": [
      "\u001b[0;36m  Cell \u001b[0;32mIn[15], line 2\u001b[0;36m\u001b[0m\n\u001b[0;31m    Ans : An identifier can have a maximum length of 79 characters in Python.\u001b[0m\n\u001b[0m             ^\u001b[0m\n\u001b[0;31mSyntaxError\u001b[0m\u001b[0;31m:\u001b[0m invalid syntax\n"
     ]
    }
   ],
   "source": [
    "Question 12. What is the maximum possible length of an identifier in python?\n",
    "Ans : An identifier can have a maximum length of 79 characters in Python.\n"
   ]
  },
  {
   "cell_type": "code",
   "execution_count": 16,
   "id": "70c6571c-f582-4bbc-b628-90e9ef120a52",
   "metadata": {
    "collapsed": true,
    "jupyter": {
     "outputs_hidden": true
    },
    "tags": []
   },
   "outputs": [
    {
     "ename": "SyntaxError",
     "evalue": "invalid character '’' (U+2019) (320063911.py, line 2)",
     "output_type": "error",
     "traceback": [
      "\u001b[0;36m  Cell \u001b[0;32mIn[16], line 2\u001b[0;36m\u001b[0m\n\u001b[0;31m    Ans : The Python language is full of benefits and advantages.Some good reasons why choose python over other languages and why you’re going to love Python.\u001b[0m\n\u001b[0m                                                                                                                                     ^\u001b[0m\n\u001b[0;31mSyntaxError\u001b[0m\u001b[0;31m:\u001b[0m invalid character '’' (U+2019)\n"
     ]
    }
   ],
   "source": [
    "Question 13. What are the benefits of using python?\n",
    "Ans : The Python language is full of benefits and advantages.Some good reasons why choose python over other languages and why you’re going to love Python.\n",
    "Python is a language embraced by a large community of coders for its many advantages features. Many businesses choose python as the main programming language.\n",
    "____________________________________________________\n",
    "| Some Of the sectors where mejorly used python.   |\n",
    "|__________________________________________________|\n",
    "\n",
    "Data science\n",
    "Scientific and mathematical computing\n",
    "Web development\n",
    "Finance and trading\n",
    "System automation and administration\n",
    "Computer graphics\n",
    "Basic game development\n",
    "Security and penetration testing\n",
    "General and application-specific scripting\n",
    "Mapping and geography (GIS software) "
   ]
  },
  {
   "cell_type": "code",
   "execution_count": 17,
   "id": "87218006-ed5f-4671-9078-569ccdb02a10",
   "metadata": {
    "collapsed": true,
    "jupyter": {
     "outputs_hidden": true
    },
    "tags": []
   },
   "outputs": [
    {
     "ename": "SyntaxError",
     "evalue": "invalid syntax (2863128560.py, line 1)",
     "output_type": "error",
     "traceback": [
      "\u001b[0;36m  Cell \u001b[0;32mIn[17], line 1\u001b[0;36m\u001b[0m\n\u001b[0;31m    Question 14. How is the memory managed in python?\u001b[0m\n\u001b[0m             ^\u001b[0m\n\u001b[0;31mSyntaxError\u001b[0m\u001b[0;31m:\u001b[0m invalid syntax\n"
     ]
    }
   ],
   "source": [
    "Question 14. How is the memory managed in python? \n",
    "Ans : Memory management in Python involves a private heap containing all Python objects and data structures.\n",
    "The management of this private heap is ensured internally by the Python memory manager."
   ]
  },
  {
   "cell_type": "code",
   "execution_count": null,
   "id": "32e54243-d45b-4e0c-9aa0-8ac83de7b69f",
   "metadata": {},
   "outputs": [],
   "source": [
    "Question 15. How to install python on windows and set path variables?\n",
    "Ans:Step 1: Install python from this link https://www.python.org/downloads/\n",
    "Step 2: install it on your PC. Look for the location where PYTHON has been installed on your PC using tge following command on your command prompt: cmd python.\n",
    "Step 3: go to advanced system settings and add new variable and name it as PYTHON_NAME and paste the copied path.\n",
    "Step 4:  look for the path variable, select it's value and select edit\n",
    "Add a semicolon towards the end of the value if it's not present and then type %PYTHON_HOME% .\n",
    "\n",
    "Now you are ready to go...........\n"
   ]
  },
  {
   "cell_type": "code",
   "execution_count": null,
   "id": "6e7bd265-7121-400b-ba39-0a03ea793a1d",
   "metadata": {},
   "outputs": [],
   "source": [
    "Question 16. Is indentation required in python? \n",
    "Ans : The indentation in Python is very important. Python uses indentation to indicate a block of code."
   ]
  }
 ],
 "metadata": {
  "kernelspec": {
   "display_name": "Python 3 (ipykernel)",
   "language": "python",
   "name": "python3"
  },
  "language_info": {
   "codemirror_mode": {
    "name": "ipython",
    "version": 3
   },
   "file_extension": ".py",
   "mimetype": "text/x-python",
   "name": "python",
   "nbconvert_exporter": "python",
   "pygments_lexer": "ipython3",
   "version": "3.10.8"
  }
 },
 "nbformat": 4,
 "nbformat_minor": 5
}
