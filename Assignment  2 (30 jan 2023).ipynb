{
 "cells": [
  {
   "cell_type": "code",
   "execution_count": 1,
   "id": "228ec510-1e6a-4978-a032-7953a1fde1e4",
   "metadata": {
    "collapsed": true,
    "jupyter": {
     "outputs_hidden": true
    },
    "tags": []
   },
   "outputs": [
    {
     "ename": "SyntaxError",
     "evalue": "invalid syntax (2551234339.py, line 1)",
     "output_type": "error",
     "traceback": [
      "\u001b[0;36m  Cell \u001b[0;32mIn[1], line 1\u001b[0;36m\u001b[0m\n\u001b[0;31m    Assignment 2 (30 jan 2023)\u001b[0m\n\u001b[0m               ^\u001b[0m\n\u001b[0;31mSyntaxError\u001b[0m\u001b[0;31m:\u001b[0m invalid syntax\n"
     ]
    }
   ],
   "source": [
    "                                                 Assignment 2 (30 jan 2023)"
   ]
  },
  {
   "cell_type": "code",
   "execution_count": 11,
   "id": "ad9dbe12-a520-46dc-a24d-6aec555ce73f",
   "metadata": {},
   "outputs": [
    {
     "name": "stdin",
     "output_type": "stream",
     "text": [
      "Enter The Marks:  98\n"
     ]
    },
    {
     "name": "stdout",
     "output_type": "stream",
     "text": [
      "You Got A Grade\n"
     ]
    }
   ],
   "source": [
    "#Problem No 1. write a program to accept percentage from the user and display the grade according to the following criteria. \n",
    "\n",
    "percentage = int(input(\"Enter The Marks: \"))\n",
    "\n",
    "if percentage>90:\n",
    "    print(\"You Got A Grade\")\n",
    "elif percentage>=80 and Percentage<=90:\n",
    "    print (\"You Got B Grade\")\n",
    "elif percentage>60 and Percentage<=80:\n",
    "    print (\"You Got C Grade\")\n",
    "else:\n",
    "    print (\"You Got D Gread\")\n",
    "    \n",
    "    "
   ]
  },
  {
   "cell_type": "code",
   "execution_count": 29,
   "id": "08f2e2c3-6b21-408f-9419-f46f76366daf",
   "metadata": {},
   "outputs": [
    {
     "name": "stdin",
     "output_type": "stream",
     "text": [
      "Enter The Price Of Bike:  66000\n"
     ]
    },
    {
     "name": "stdout",
     "output_type": "stream",
     "text": [
      "Tax To Be Paid 6600.0\n"
     ]
    }
   ],
   "source": [
    "#Problem No 2. write a program to accept the cost price of a bike and display the road tax to paid according to the following criteria.\n",
    "\n",
    "Tax = 0 \n",
    "Price = int(input(\"Enter The Price Of Bike: \"))\n",
    "if Price>100000:\n",
    "    Tax = 15/100*Price\n",
    "elif Price>50000 and Price <=100000:\n",
    "    Tax = 10/100*Price \n",
    "else:\n",
    "    Tax = 5/100*Price \n",
    "print(\"Tax To Be Paid\", Tax) \n",
    "\n",
    "\n",
    "   "
   ]
  },
  {
   "cell_type": "code",
   "execution_count": 32,
   "id": "92ebdc7c-2de3-4f84-9957-edf88957d82e",
   "metadata": {},
   "outputs": [
    {
     "name": "stdin",
     "output_type": "stream",
     "text": [
      "Enter a city jaipur\n"
     ]
    },
    {
     "name": "stdout",
     "output_type": "stream",
     "text": [
      "Jal Mahal\n"
     ]
    }
   ],
   "source": [
    "# Problem No 3. Write a program accept any city from the user and display monument of that city.\n",
    "\n",
    "city = input(\"Enter a city\")\n",
    "if city. upper() == \"DELHI\":\n",
    "   print(\"Red Fort\")\n",
    "elif city. upper() == \"AGRA\":\n",
    "   print(\"Taj Mahal\")\n",
    "elif city.upper() == \"JAIPUR\":\n",
    "   print(\"Jal Mahal\")\n",
    "else:\n",
    "   print(\"Enter a valid city\")"
   ]
  },
  {
   "cell_type": "code",
   "execution_count": 4,
   "id": "22a7b085-0abc-4784-a187-cf73129af690",
   "metadata": {},
   "outputs": [
    {
     "name": "stdout",
     "output_type": "stream",
     "text": [
      "0\n"
     ]
    }
   ],
   "source": [
    "# Problem No 4. Check how many times a given number can be divided by 3 before it is less than or equal to 10.\n",
    "\n",
    "def divide_by_3(n):\n",
    "    count = 0\n",
    "    while n > 10:\n",
    "        n = n / 3\n",
    "        count += 1\n",
    "        if n <= 10:\n",
    "            break\n",
    "    return count\n",
    "print (divide_by_3(10))\n",
    " \n",
    "\n",
    "\n"
   ]
  },
  {
   "cell_type": "code",
   "execution_count": 1,
   "id": "4042fd3e-b54b-46ea-a3cf-7bd5bca1eb1f",
   "metadata": {},
   "outputs": [
    {
     "name": "stdout",
     "output_type": "stream",
     "text": [
      "1\n",
      "2\n",
      "3\n",
      "4\n",
      "5\n"
     ]
    }
   ],
   "source": [
    "# Problem No 5. Why and when to use while loop in python given a detailed description with example. \n",
    "\n",
    "# Problem No 5. Why and when to use while loop in python given a detailed description with example. \n",
    "\n",
    "# Ans : Python While Loop is used to execute a block of statements repeatedly until a given condition is satisfied. \n",
    "# And when the condition becomes false, the line immediately after the loop in the program is executed.\n",
    "\n",
    "i = 1\n",
    "while i <= 5:\n",
    "    print(i)\n",
    "    i = i + 1"
   ]
  },
  {
   "cell_type": "code",
   "execution_count": 3,
   "id": "634cc050-18e2-4767-97bc-58c37a08ae6a",
   "metadata": {},
   "outputs": [
    {
     "name": "stdout",
     "output_type": "stream",
     "text": [
      "* \n",
      "* * \n",
      "* * * \n",
      "* * * * \n",
      "* * * * * \n"
     ]
    }
   ],
   "source": [
    "# Problem No 6. Use nested while loop to print 3 different pattern in python.\n",
    "\n",
    "# Triangle pattern:\n",
    "\n",
    "i = 1\n",
    "while i <= 5:\n",
    "    j = 1\n",
    "    while j <= i:\n",
    "        print(\"*\", end=\" \")\n",
    "        j = j + 1\n",
    "    print()\n",
    "    i = i + 1\n",
    "\n",
    "\n"
   ]
  },
  {
   "cell_type": "code",
   "execution_count": 4,
   "id": "b30013eb-f13b-4a7f-954c-b592fe582bcc",
   "metadata": {},
   "outputs": [
    {
     "name": "stdout",
     "output_type": "stream",
     "text": [
      "* * * * * \n",
      "* * * * \n",
      "* * * \n",
      "* * \n",
      "* \n"
     ]
    }
   ],
   "source": [
    "#Reverse Triangle Pattern:\n",
    "\n",
    "i = 5\n",
    "while i >= 1:\n",
    "    j = 1\n",
    "    while j <= i:\n",
    "        print(\"*\", end=\" \")\n",
    "        j = j + 1\n",
    "    print()\n",
    "    i = i - 1\n"
   ]
  },
  {
   "cell_type": "code",
   "execution_count": 5,
   "id": "f26d6eb7-4895-4166-bd04-05f9efb83092",
   "metadata": {},
   "outputs": [
    {
     "name": "stdout",
     "output_type": "stream",
     "text": [
      "        * \n",
      "      * * * \n",
      "    * * * * * \n",
      "  * * * * * * * \n",
      "* * * * * * * * * \n"
     ]
    }
   ],
   "source": [
    "#Pyramid Pattern:\n",
    "\n",
    "i = 1\n",
    "while i <= 5:\n",
    "    j = 1\n",
    "    while j <= 5 - i:\n",
    "        print(\" \", end=\" \")\n",
    "        j = j + 1\n",
    "    k = 1\n",
    "    while k <= 2 * i - 1:\n",
    "        print(\"*\", end=\" \")\n",
    "        k = k + 1\n",
    "    print()\n",
    "    i = i + 1\n"
   ]
  },
  {
   "cell_type": "code",
   "execution_count": 7,
   "id": "21fa00bf-638a-4f19-b484-8bff44804130",
   "metadata": {},
   "outputs": [
    {
     "name": "stdout",
     "output_type": "stream",
     "text": [
      "10\n",
      "9\n",
      "8\n",
      "7\n",
      "6\n",
      "5\n",
      "4\n",
      "3\n",
      "2\n",
      "1\n"
     ]
    }
   ],
   "source": [
    "#problem No 7. Reverse a while loop to display number from 10 to 1 . \n",
    "\n",
    "\n",
    "i = 10\n",
    "while i >= 1:\n",
    "    print(i)\n",
    "    i = i - 1\n"
   ]
  },
  {
   "cell_type": "code",
   "execution_count": null,
   "id": "9c4a8cc6-a182-455c-be19-03a7d66dfac7",
   "metadata": {},
   "outputs": [],
   "source": []
  }
 ],
 "metadata": {
  "kernelspec": {
   "display_name": "Python 3 (ipykernel)",
   "language": "python",
   "name": "python3"
  },
  "language_info": {
   "codemirror_mode": {
    "name": "ipython",
    "version": 3
   },
   "file_extension": ".py",
   "mimetype": "text/x-python",
   "name": "python",
   "nbconvert_exporter": "python",
   "pygments_lexer": "ipython3",
   "version": "3.10.8"
  }
 },
 "nbformat": 4,
 "nbformat_minor": 5
}
